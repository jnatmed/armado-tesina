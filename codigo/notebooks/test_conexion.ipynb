{
 "cells": [
  {
   "cell_type": "code",
   "execution_count": 1,
   "id": "facd6a21",
   "metadata": {},
   "outputs": [
    {
     "name": "stdout",
     "output_type": "stream",
     "text": [
      "✅ Conectado a tesina_oversampling en localhost:3306\n",
      "❌ Error al ejecutar consulta: 1364 (HY000): Field 'config_id' doesn't have a default value\n",
      "{'experimento_id': 1, 'dataset_id': 1, 'config_id': 2, 'modelo_id': 1, 'cv_splits': 5, 'n_iter': 10, 'n_jobs_search': 4, 'search_time_sec': Decimal('2.864'), 'mejor_configuracion': '{\"raw\": \"{\\'classifier__C\\': 9.877700294007917, \\'classifier__class_weight\\': \\'balanced\\', \\'classifier__dual\\': False, \\'classifier__fit_intercept\\': False, \\'classifier__penalty\\': \\'l2\\', \\'classifier__solver\\': \\'saga\\', \\'classifier__tol\\': 2.3270677083837777e-05}\"}', 'source_file': 'resultados_LogisticRegression.csv'}\n",
      "🔒 Conexión cerrada\n"
     ]
    }
   ],
   "source": [
    "import sys\n",
    "import os\n",
    "\n",
    "# Agrego la carpeta scripts al path\n",
    "sys.path.append(os.path.abspath(\"../scripts\"))\n",
    "\n",
    "from conexion import DatabaseConnection\n",
    "\n",
    "db = DatabaseConnection()\n",
    "db.connect()\n",
    "\n",
    "# Insertar ejemplo\n",
    "db.execute_query(\n",
    "    \"INSERT INTO experimento (experimento_id, dataset_id) VALUES (%s, %s)\", \n",
    "    (1, 2)\n",
    ")\n",
    "\n",
    "# Consultar ejemplo\n",
    "rows = db.fetch_all(\"SELECT * FROM experimento\")\n",
    "for row in rows:\n",
    "    print(row)\n",
    "\n",
    "db.close()\n"
   ]
  }
 ],
 "metadata": {
  "language_info": {
   "name": "python"
  }
 },
 "nbformat": 4,
 "nbformat_minor": 5
}
