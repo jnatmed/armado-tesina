{
 "cells": [
  {
   "cell_type": "code",
   "execution_count": 1,
   "id": "93ba0a41",
   "metadata": {},
   "outputs": [
    {
     "ename": "FileNotFoundError",
     "evalue": "No se encontró la banda SR_B2 en codigo\\datasets\\landsat8_lujan_campo_20250531_path225_row084_SR",
     "output_type": "error",
     "traceback": [
      "\u001b[31m---------------------------------------------------------------------------\u001b[39m",
      "\u001b[31mFileNotFoundError\u001b[39m                         Traceback (most recent call last)",
      "\u001b[36mCell\u001b[39m\u001b[36m \u001b[39m\u001b[32mIn[1]\u001b[39m\u001b[32m, line 20\u001b[39m\n\u001b[32m     17\u001b[39m path_bandas = \u001b[33m\"\u001b[39m\u001b[33mcodigo/datasets/landsat8_lujan_campo_20250531_path225_row084_SR\u001b[39m\u001b[33m\"\u001b[39m\n\u001b[32m     18\u001b[39m path_mascara = \u001b[33mf\u001b[39m\u001b[33m\"\u001b[39m\u001b[38;5;132;01m{\u001b[39;00mpath_bandas\u001b[38;5;132;01m}\u001b[39;00m\u001b[33m/etiquetas_mask.tif\u001b[39m\u001b[33m\"\u001b[39m\n\u001b[32m---> \u001b[39m\u001b[32m20\u001b[39m X, y = \u001b[43mcargar_dataset_landsat\u001b[49m\u001b[43m(\u001b[49m\u001b[43mpath_bandas\u001b[49m\u001b[43m,\u001b[49m\u001b[43m \u001b[49m\u001b[43mpath_mascara\u001b[49m\u001b[43m)\u001b[49m\n\u001b[32m     22\u001b[39m \u001b[38;5;28mprint\u001b[39m(\u001b[33mf\u001b[39m\u001b[33m\"\u001b[39m\u001b[33m🟦 X shape: \u001b[39m\u001b[38;5;132;01m{\u001b[39;00mX.shape\u001b[38;5;132;01m}\u001b[39;00m\u001b[33m\"\u001b[39m)\n\u001b[32m     23\u001b[39m \u001b[38;5;28mprint\u001b[39m(\u001b[33mf\u001b[39m\u001b[33m\"\u001b[39m\u001b[33m🟥 y distribution:\u001b[39m\u001b[38;5;130;01m\\n\u001b[39;00m\u001b[38;5;132;01m{\u001b[39;00mpd.Series(y).value_counts()\u001b[38;5;132;01m}\u001b[39;00m\u001b[33m\"\u001b[39m)\n",
      "\u001b[36mFile \u001b[39m\u001b[32mc:\\Users\\User\\Documents\\TESIS\\armado tesina\\codigo\\datasets\\landsat8_lujan_campo_20250531_path225_row084_SR\\preprocess_landsat.py:51\u001b[39m, in \u001b[36mcargar_dataset_landsat\u001b[39m\u001b[34m(path_dir, path_mascara)\u001b[39m\n\u001b[32m     49\u001b[39m \u001b[38;5;28;01mdef\u001b[39;00m\u001b[38;5;250m \u001b[39m\u001b[34mcargar_dataset_landsat\u001b[39m(path_dir, path_mascara):\n\u001b[32m     50\u001b[39m     \u001b[38;5;66;03m# Selección de bandas reflectancia de superficie (ej: bandas 2 a 7)\u001b[39;00m\n\u001b[32m---> \u001b[39m\u001b[32m51\u001b[39m     nombres_bandas = \u001b[43mdetectar_bandas_sr\u001b[49m\u001b[43m(\u001b[49m\u001b[43mpath_dir\u001b[49m\u001b[43m)\u001b[49m\n\u001b[32m     53\u001b[39m     imagen = apilar_bandas(path_dir, nombres_bandas)\n\u001b[32m     54\u001b[39m     mascara = leer_mascara_etiquetas(path_mascara)\n",
      "\u001b[36mFile \u001b[39m\u001b[32mc:\\Users\\User\\Documents\\TESIS\\armado tesina\\codigo\\datasets\\landsat8_lujan_campo_20250531_path225_row084_SR\\preprocess_landsat.py:45\u001b[39m, in \u001b[36mdetectar_bandas_sr\u001b[39m\u001b[34m(path_dir)\u001b[39m\n\u001b[32m     43\u001b[39m     encontrados = \u001b[38;5;28mlist\u001b[39m(path_dir.glob(\u001b[33mf\u001b[39m\u001b[33m\"\u001b[39m\u001b[33m*SR_B\u001b[39m\u001b[38;5;132;01m{\u001b[39;00mi\u001b[38;5;132;01m}\u001b[39;00m\u001b[33m.TIF\u001b[39m\u001b[33m\"\u001b[39m))\n\u001b[32m     44\u001b[39m     \u001b[38;5;28;01mif\u001b[39;00m \u001b[38;5;129;01mnot\u001b[39;00m encontrados:\n\u001b[32m---> \u001b[39m\u001b[32m45\u001b[39m         \u001b[38;5;28;01mraise\u001b[39;00m \u001b[38;5;167;01mFileNotFoundError\u001b[39;00m(\u001b[33mf\u001b[39m\u001b[33m\"\u001b[39m\u001b[33mNo se encontró la banda SR_B\u001b[39m\u001b[38;5;132;01m{\u001b[39;00mi\u001b[38;5;132;01m}\u001b[39;00m\u001b[33m en \u001b[39m\u001b[38;5;132;01m{\u001b[39;00mpath_dir\u001b[38;5;132;01m}\u001b[39;00m\u001b[33m\"\u001b[39m)\n\u001b[32m     46\u001b[39m     bandas.append(encontrados[\u001b[32m0\u001b[39m].name)\n\u001b[32m     47\u001b[39m \u001b[38;5;28;01mreturn\u001b[39;00m bandas\n",
      "\u001b[31mFileNotFoundError\u001b[39m: No se encontró la banda SR_B2 en codigo\\datasets\\landsat8_lujan_campo_20250531_path225_row084_SR"
     ]
    }
   ],
   "source": [
    "# 🔹 1. Imports\n",
    "import numpy as np\n",
    "import pandas as pd\n",
    "from sklearn.ensemble import RandomForestClassifier\n",
    "from sklearn.metrics import classification_report, confusion_matrix\n",
    "from imblearn.over_sampling import SMOTE, ADASYN, BorderlineSMOTE\n",
    "\n",
    "import sys\n",
    "import os\n",
    "sys.path.append(os.path.abspath(os.path.join(os.getcwd(), '..')))  # Ajuste de ruta si estás dentro de notebooks/\n",
    "\n",
    "\n",
    "from scripts.pc_smote import PCSMOTE\n",
    "from datasets.landsat8_lujan_campo_20250531_path225_row084_SR.preprocess_landsat import cargar_dataset_landsat\n",
    "\n",
    "# 🔹 2. Cargar datos Landsat\n",
    "path_bandas = \"codigo/datasets/landsat8_lujan_campo_20250531_path225_row084_SR\"\n",
    "path_mascara = f\"{path_bandas}/etiquetas_mask.tif\"\n",
    "\n",
    "X, y = cargar_dataset_landsat(path_bandas, path_mascara)\n",
    "\n",
    "print(f\"🟦 X shape: {X.shape}\")\n",
    "print(f\"🟥 y distribution:\\n{pd.Series(y).value_counts()}\")\n",
    "\n",
    "# 🔹 3. Aplicar técnica de sobremuestreo\n",
    "samplers = {\n",
    "    \"SMOTE\": SMOTE(random_state=42),\n",
    "    \"ADASYN\": ADASYN(random_state=42),\n",
    "    \"BorderlineSMOTE\": BorderlineSMOTE(random_state=42),\n",
    "    \"PC-SMOTE\": PCSMOTE(k_neighbors=5, radio_densidad=0.5, percentil_dist=75)\n",
    "}\n",
    "\n",
    "# 🔹 4. Entrenamiento y evaluación\n",
    "from sklearn.model_selection import train_test_split\n",
    "\n",
    "resultados = []\n",
    "\n",
    "for nombre, sampler in samplers.items():\n",
    "    print(f\"\\n🔄 {nombre}...\")\n",
    "\n",
    "    X_res, y_res = sampler.fit_resample(X, y)\n",
    "    X_train, X_test, y_train, y_test = train_test_split(X_res, y_res, test_size=0.3, stratify=y_res, random_state=42)\n",
    "\n",
    "    clf = RandomForestClassifier(random_state=42)\n",
    "    clf.fit(X_train, y_train)\n",
    "    y_pred = clf.predict(X_test)\n",
    "\n",
    "    print(classification_report(y_test, y_pred, digits=4))\n",
    "    print(\"Confusion matrix:\")\n",
    "    print(confusion_matrix(y_test, y_pred))\n",
    "\n",
    "    resultados.append({\n",
    "        \"técnica\": nombre,\n",
    "        \"accuracy\": clf.score(X_test, y_test),\n",
    "        \"n_clases\": len(np.unique(y_res))\n",
    "    })\n",
    "\n",
    "# 🔹 5. Comparar resultados\n",
    "df_resultados = pd.DataFrame(resultados)\n",
    "display(df_resultados)\n"
   ]
  },
  {
   "cell_type": "code",
   "execution_count": 2,
   "id": "f7c8ac21",
   "metadata": {},
   "outputs": [],
   "source": [
    "from pathlib import Path\n",
    "\n",
    "path_bandas = Path(\"codigo/datasets/landsat8_lujan_campo_20250531_path225_row084_SR\")\n",
    "\n",
    "for tif in path_bandas.glob(\"*.TIF\"):\n",
    "    print(tif.name)\n"
   ]
  }
 ],
 "metadata": {
  "kernelspec": {
   "display_name": "Python 3",
   "language": "python",
   "name": "python3"
  },
  "language_info": {
   "codemirror_mode": {
    "name": "ipython",
    "version": 3
   },
   "file_extension": ".py",
   "mimetype": "text/x-python",
   "name": "python",
   "nbconvert_exporter": "python",
   "pygments_lexer": "ipython3",
   "version": "3.11.8"
  }
 },
 "nbformat": 4,
 "nbformat_minor": 5
}
