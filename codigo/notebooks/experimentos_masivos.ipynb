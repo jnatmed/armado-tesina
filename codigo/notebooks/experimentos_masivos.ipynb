{
 "cells": [
  {
   "cell_type": "code",
   "execution_count": 3,
   "id": "8ec8d47c",
   "metadata": {},
   "outputs": [],
   "source": [
    "import sys, os\n",
    "import numpy as np\n",
    "import pandas as pd\n",
    "from sklearn.ensemble import RandomForestClassifier\n",
    "from sklearn.metrics import classification_report\n",
    "from sklearn.model_selection import train_test_split\n",
    "from imblearn.over_sampling import SMOTE, ADASYN, BorderlineSMOTE\n",
    "sys.path.append(os.path.abspath('../scripts'))\n",
    "from ar_adasyn import ARADASYN\n",
    "from alpha_distance_ar_adasyn import AlphaDistanceARADASYN"
   ]
  },
  {
   "cell_type": "code",
   "execution_count": 4,
   "id": "b09fa98c",
   "metadata": {},
   "outputs": [
    {
     "name": "stdout",
     "output_type": "stream",
     "text": [
      "Distribución binaria (y_bin): Counter({np.int64(0): 193, np.int64(1): 143})\n",
      "Muestras clase minoritaria (X_min): 143\n",
      "Muestras clase mayoritaria (X_maj): 193\n",
      "Distribución de clases: {0: np.int64(193), 1: np.int64(143)}\n"
     ]
    },
    {
     "name": "stderr",
     "output_type": "stream",
     "text": [
      "C:\\Users\\User\\AppData\\Local\\Temp\\ipykernel_20796\\3352879460.py:3: FutureWarning: The 'delim_whitespace' keyword in pd.read_csv is deprecated and will be removed in a future version. Use ``sep='\\s+'`` instead\n",
      "  df = pd.read_csv(ruta_ecoli, header=None, delim_whitespace=True)\n"
     ]
    }
   ],
   "source": [
    "# Cargar dataset ecoli\n",
    "ruta_ecoli = '../datasets/ecoli/ecoli.data'\n",
    "df = pd.read_csv(ruta_ecoli, header=None, delim_whitespace=True)\n",
    "X = df.iloc[:, 1:8].values\n",
    "y = df.iloc[:, 8].values\n",
    "y_bin = np.where(y == 'cp', 1, 0)\n",
    "X_min = X[y_bin == 1]\n",
    "X_maj = X[y_bin == 0]\n",
    "\n",
    "from collections import Counter\n",
    "\n",
    "print(\"Distribución binaria (y_bin):\", Counter(y_bin))\n",
    "print(\"Muestras clase minoritaria (X_min):\", len(X_min))\n",
    "print(\"Muestras clase mayoritaria (X_maj):\", len(X_maj))\n",
    "\n",
    "import numpy as np\n",
    "\n",
    "print(\"Distribución de clases:\", dict(enumerate(np.bincount(y_bin))))\n"
   ]
  },
  {
   "cell_type": "code",
   "execution_count": 8,
   "id": "bc05455f",
   "metadata": {},
   "outputs": [],
   "source": [
    "# ==============================\n",
    "# Comparar técnicas\n",
    "# ==============================\n",
    "from imblearn.over_sampling import SMOTE, ADASYN, BorderlineSMOTE\n",
    "from alfa_dbasmote import AlphaDistanceDBASMOTE\n",
    "from ar_adasyn import ARADASYN\n",
    "from alpha_distance_ar_adasyn import AlphaDistanceARADASYN\n",
    "\n",
    "from custom_samplers import AlphaDistanceDBASMOTEWrapper, ARADASYNWrapper, PCSMOTEWrapper\n",
    "\n",
    "tecnicas = {\n",
    "    \"SMOTE\": SMOTE(random_state=42),\n",
    "    \"ADASYN\": ADASYN(random_state=42),\n",
    "    \"BorderlineSMOTE\": BorderlineSMOTE(random_state=42),\n",
    "    \"AR-ADASYN\": ARADASYNWrapper(),  \n",
    "    \"AlphaDistanceARADASYN\": AlphaDistanceARADASYN(m=5, beta=1.0, random_state=42),\n",
    "    \"AlphaDistanceDBASMOTE\": AlphaDistanceDBASMOTEWrapper(beta=1.0, m=5, random_state=42),\n",
    "    \"PC-SMOTE\": PCSMOTEWrapper(k_neighbors=5, random_state=42)\n",
    "}\n",
    "\n"
   ]
  },
  {
   "cell_type": "code",
   "execution_count": 9,
   "id": "1834a30d",
   "metadata": {},
   "outputs": [],
   "source": [
    "X = df.iloc[:, 1:8].values\n",
    "y = df.iloc[:, 8].values\n",
    "y_bin = np.where(y == 'cp', 1, 0)  # binarización\n",
    "\n",
    "# Separar conjunto de entrenamiento y test\n",
    "X_train, X_test, y_train, y_test = train_test_split(X, y_bin, stratify=y_bin, test_size=0.3, random_state=42)\n"
   ]
  },
  {
   "cell_type": "code",
   "execution_count": 12,
   "id": "5ce31f16",
   "metadata": {},
   "outputs": [
    {
     "name": "stdout",
     "output_type": "stream",
     "text": [
      "\n",
      "===== SMOTE =====\n",
      "              precision    recall  f1-score   support\n",
      "\n",
      "           0     1.0000    0.9310    0.9643        58\n",
      "           1     0.9149    1.0000    0.9556        43\n",
      "\n",
      "    accuracy                         0.9604       101\n",
      "   macro avg     0.9574    0.9655    0.9599       101\n",
      "weighted avg     0.9638    0.9604    0.9606       101\n",
      "\n",
      "\n",
      "===== ADASYN =====\n",
      "              precision    recall  f1-score   support\n",
      "\n",
      "           0     0.9815    0.9138    0.9464        58\n",
      "           1     0.8936    0.9767    0.9333        43\n",
      "\n",
      "    accuracy                         0.9406       101\n",
      "   macro avg     0.9375    0.9453    0.9399       101\n",
      "weighted avg     0.9441    0.9406    0.9409       101\n",
      "\n",
      "\n",
      "===== BorderlineSMOTE =====\n",
      "              precision    recall  f1-score   support\n",
      "\n",
      "           0     1.0000    0.9483    0.9735        58\n",
      "           1     0.9348    1.0000    0.9663        43\n",
      "\n",
      "    accuracy                         0.9703       101\n",
      "   macro avg     0.9674    0.9741    0.9699       101\n",
      "weighted avg     0.9722    0.9703    0.9704       101\n",
      "\n",
      "\n",
      "===== AR-ADASYN =====\n",
      "              precision    recall  f1-score   support\n",
      "\n",
      "           0     0.9818    0.9310    0.9558        58\n",
      "           1     0.9130    0.9767    0.9438        43\n",
      "\n",
      "    accuracy                         0.9505       101\n",
      "   macro avg     0.9474    0.9539    0.9498       101\n",
      "weighted avg     0.9525    0.9505    0.9507       101\n",
      "\n",
      "\n",
      "===== AlphaDistanceARADASYN =====\n",
      "              precision    recall  f1-score   support\n",
      "\n",
      "           0     1.0000    0.8793    0.9358        58\n",
      "           1     0.8600    1.0000    0.9247        43\n",
      "\n",
      "    accuracy                         0.9307       101\n",
      "   macro avg     0.9300    0.9397    0.9303       101\n",
      "weighted avg     0.9404    0.9307    0.9311       101\n",
      "\n",
      "\n",
      "===== AlphaDistanceDBASMOTE =====\n",
      "              precision    recall  f1-score   support\n",
      "\n",
      "           0     0.9643    0.9310    0.9474        58\n",
      "           1     0.9111    0.9535    0.9318        43\n",
      "\n",
      "    accuracy                         0.9406       101\n",
      "   macro avg     0.9377    0.9423    0.9396       101\n",
      "weighted avg     0.9416    0.9406    0.9407       101\n",
      "\n",
      "\n",
      "===== PC-SMOTE =====\n",
      "              precision    recall  f1-score   support\n",
      "\n",
      "           0     1.0000    0.9310    0.9643        58\n",
      "           1     0.9149    1.0000    0.9556        43\n",
      "\n",
      "    accuracy                         0.9604       101\n",
      "   macro avg     0.9574    0.9655    0.9599       101\n",
      "weighted avg     0.9638    0.9604    0.9606       101\n",
      "\n"
     ]
    }
   ],
   "source": [
    "for nombre, sampler in tecnicas.items():\n",
    "    print(f\"\\n===== {nombre} =====\")\n",
    "\n",
    "    try:\n",
    "        if nombre in [\"SMOTE\", \"ADASYN\", \"BorderlineSMOTE\", \"PC-SMOTE\"]:\n",
    "            X_resampled, y_resampled = sampler.fit_resample(X_train, y_train)\n",
    "        else:\n",
    "            X_min = X_train[y_train == 1]\n",
    "            X_maj = X_train[y_train == 0]\n",
    "            X_resampled, y_resampled = sampler.fit_resample(X_min, X_maj)\n",
    "\n",
    "        clf = RandomForestClassifier(random_state=42)\n",
    "        clf.fit(X_resampled, y_resampled)\n",
    "        y_pred = clf.predict(X_test)\n",
    "\n",
    "        print(classification_report(y_test, y_pred, digits=4))\n",
    "\n",
    "    except Exception as e:\n",
    "        print(f\"[ERROR] Falló {nombre}: {e}\")\n"
   ]
  },
  {
   "cell_type": "code",
   "execution_count": 13,
   "id": "c2fb5502",
   "metadata": {},
   "outputs": [
    {
     "name": "stderr",
     "output_type": "stream",
     "text": [
      "C:\\Users\\User\\AppData\\Local\\Temp\\ipykernel_20796\\1523831882.py:3: FutureWarning: The 'delim_whitespace' keyword in pd.read_csv is deprecated and will be removed in a future version. Use ``sep='\\s+'`` instead\n",
      "  df = pd.read_csv(ruta_ecoli, header=None, delim_whitespace=True)\n"
     ]
    }
   ],
   "source": [
    "# Cargar dataset ecoli\n",
    "ruta_ecoli = '../datasets/ecoli/ecoli.data'\n",
    "df = pd.read_csv(ruta_ecoli, header=None, delim_whitespace=True)\n",
    "X = df.iloc[:, 1:8].values\n",
    "y = df.iloc[:, 8].values\n",
    "\n",
    "# Binarizar la clase\n",
    "y_bin = np.where(y == 'cp', 1, 0)\n",
    "\n",
    "# X_bin es solo un alias para claridad, ya que X no se modifica\n",
    "X_bin = X\n"
   ]
  },
  {
   "cell_type": "code",
   "execution_count": 14,
   "id": "4ed4dbae",
   "metadata": {},
   "outputs": [
    {
     "name": "stdout",
     "output_type": "stream",
     "text": [
      "\n",
      ">>> Iteración seed = 0\n",
      "\n",
      ">>> Iteración seed = 1\n",
      "\n",
      ">>> Iteración seed = 2\n",
      "\n",
      ">>> Iteración seed = 3\n",
      "\n",
      ">>> Iteración seed = 4\n",
      "\n",
      ">>> Iteración seed = 5\n",
      "\n",
      ">>> Iteración seed = 6\n",
      "\n",
      ">>> Iteración seed = 7\n",
      "\n",
      ">>> Iteración seed = 8\n",
      "\n",
      ">>> Iteración seed = 9\n",
      "\n",
      "=== Promedio F1-score por técnica ===\n",
      "                        mean_f1    std_f1\n",
      "AR-ADASYN              0.958254  0.021066\n",
      "BorderlineSMOTE        0.955677  0.022497\n",
      "AlphaDistanceARADASYN  0.952735  0.025533\n",
      "AlphaDistanceDBASMOTE  0.950698  0.022857\n",
      "PC-SMOTE               0.949606  0.023618\n",
      "SMOTE                  0.948594  0.025326\n",
      "ADASYN                 0.948131  0.023735\n"
     ]
    }
   ],
   "source": [
    "from sklearn.ensemble import RandomForestClassifier\n",
    "from sklearn.metrics import f1_score\n",
    "from sklearn.model_selection import train_test_split\n",
    "import numpy as np\n",
    "import pandas as pd\n",
    "\n",
    "resultados = {nombre: [] for nombre in tecnicas.keys()}\n",
    "n_reps = 10\n",
    "\n",
    "for seed in range(n_reps):\n",
    "    print(f\"\\n>>> Iteración seed = {seed}\")\n",
    "    X_train, X_test, y_train, y_test = train_test_split(X_bin, y_bin, stratify=y_bin, test_size=0.3, random_state=seed)\n",
    "\n",
    "    for nombre, sampler in tecnicas.items():\n",
    "        try:\n",
    "            if nombre in ['SMOTE', 'ADASYN', 'BorderlineSMOTE','PC-SMOTE']:\n",
    "                X_resampled, y_resampled = sampler.fit_resample(X_train, y_train)\n",
    "            else:\n",
    "                X_min = X_train[y_train == 1]\n",
    "                X_maj = X_train[y_train == 0]\n",
    "                X_resampled, y_resampled = sampler.fit_resample(X_min, X_maj)\n",
    "\n",
    "            clf = RandomForestClassifier(random_state=seed)\n",
    "            clf.fit(X_resampled, y_resampled)\n",
    "            y_pred = clf.predict(X_test)\n",
    "            f1 = f1_score(y_test, y_pred)\n",
    "            resultados[nombre].append(f1)\n",
    "\n",
    "        except Exception as e:\n",
    "            print(f\"[ERROR] Falló {nombre} con seed={seed}: {e}\")\n",
    "            resultados[nombre].append(np.nan)\n",
    "\n",
    "# Mostrar promedios\n",
    "df_resultados = pd.DataFrame({\n",
    "    nombre: {\n",
    "        'mean_f1': np.nanmean(valores),\n",
    "        'std_f1': np.nanstd(valores)\n",
    "    }\n",
    "    for nombre, valores in resultados.items()\n",
    "}).T.sort_values('mean_f1', ascending=False)\n",
    "\n",
    "print(\"\\n=== Promedio F1-score por técnica ===\")\n",
    "print(df_resultados)\n"
   ]
  },
  {
   "cell_type": "code",
   "execution_count": 21,
   "id": "ad8bd59a",
   "metadata": {},
   "outputs": [],
   "source": [
    "df_resultados.to_csv('../resultados/resultados_globales.csv', index=True)"
   ]
  },
  {
   "cell_type": "code",
   "execution_count": 22,
   "id": "119c2d4c",
   "metadata": {},
   "outputs": [
    {
     "data": {
      "image/png": "[encoded data removed]",
      "text/plain": [
       "<Figure size 640x480 with 1 Axes>"
      ]
     },
     "metadata": {},
     "output_type": "display_data"
    }
   ],
   "source": [
    "import matplotlib.pyplot as plt\n",
    "\n",
    "df_resultados['mean_f1'].plot(kind='barh', xerr=df_resultados['std_f1'], color='skyblue')\n",
    "plt.xlabel(\"F1-score promedio\")\n",
    "plt.title(\"Comparación de técnicas de sobremuestreo\")\n",
    "plt.tight_layout()\n",
    "plt.show()"
   ]
  },
  {
   "cell_type": "code",
   "execution_count": 23,
   "id": "5c22691a",
   "metadata": {},
   "outputs": [
    {
     "data": {
      "text/plain": [
       "<Figure size 640x480 with 0 Axes>"
      ]
     },
     "metadata": {},
     "output_type": "display_data"
    }
   ],
   "source": [
    "plt.tight_layout()\n",
    "plt.savefig(\"../figures/comparacion_tecnicas_sobremuestreo.png\")"
   ]
  }
 ],
 "metadata": {
  "kernelspec": {
   "display_name": "Python 3",
   "language": "python",
   "name": "python3"
  },
  "language_info": {
   "codemirror_mode": {
    "name": "ipython",
    "version": 3
   },
   "file_extension": ".py",
   "mimetype": "text/x-python",
   "name": "python",
   "nbconvert_exporter": "python",
   "pygments_lexer": "ipython3",
   "version": "3.11.8"
  }
 },
 "nbformat": 4,
 "nbformat_minor": 5
}
