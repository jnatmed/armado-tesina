{
 "cells": [
  {
   "cell_type": "code",
   "execution_count": 1,
   "id": "7ea0d7cc",
   "metadata": {},
   "outputs": [
    {
     "name": "stdout",
     "output_type": "stream",
     "text": [
      "📊 Train shape: (43500, 10), Test shape: (14500, 10)\n",
      "📦 Dataset final shape: (58000, 10)\n",
      "✅ CSV final guardado en: shuttle.csv\n"
     ]
    }
   ],
   "source": [
    "import pandas as pd\n",
    "import shutil\n",
    "import os\n",
    "\n",
    "# === 1. Descomprimir shuttle.trn.Z si no existe shuttle.trn\n",
    "input_z_path = \"shuttle.trn.Z\"\n",
    "output_trn_path = input_z_path.replace(\".Z\", \"\")\n",
    "\n",
    "if not os.path.exists(output_trn_path):\n",
    "    with open(input_z_path, \"rb\") as f_in, open(output_trn_path, \"wb\") as f_out:\n",
    "        shutil.copyfileobj(f_in, f_out)\n",
    "    print(\"✅ Archivo shuttle.trn.Z descomprimido.\")\n",
    "\n",
    "# === 2. Leer shuttle.trn y shuttle.tst\n",
    "train_path = \"shuttle.trn\"\n",
    "test_path = \"shuttle.tst\"\n",
    "\n",
    "column_names = [f\"feat_{i}\" for i in range(9)] + [\"target\"]\n",
    "\n",
    "df_train = pd.read_csv(train_path, sep=r'\\s+', header=None, names=column_names)\n",
    "df_test = pd.read_csv(test_path, sep=r'\\s+', header=None, names=column_names)\n",
    "\n",
    "print(f\"📊 Train shape: {df_train.shape}, Test shape: {df_test.shape}\")\n",
    "\n",
    "# === 3. Unir datasets\n",
    "df_total = pd.concat([df_train, df_test], ignore_index=True)\n",
    "print(f\"📦 Dataset final shape: {df_total.shape}\")\n",
    "\n",
    "# === 4. Guardar como CSV\n",
    "output_csv = \"shuttle.csv\"\n",
    "df_total.to_csv(output_csv, index=False)\n",
    "print(f\"✅ CSV final guardado en: {output_csv}\")\n"
   ]
  },
  {
   "cell_type": "code",
   "execution_count": 2,
   "id": "848fad9e",
   "metadata": {},
   "outputs": [
    {
     "name": "stdout",
     "output_type": "stream",
     "text": [
      "📊 Distribución de clases:\n",
      "Clase 1: 45586 muestras\n",
      "Clase 2: 50 muestras\n",
      "Clase 3: 171 muestras\n",
      "Clase 4: 8903 muestras\n",
      "Clase 5: 3267 muestras\n",
      "Clase 6: 10 muestras\n",
      "Clase 7: 13 muestras\n"
     ]
    }
   ],
   "source": [
    "from collections import Counter\n",
    "\n",
    "conteo = Counter(df_total[\"target\"])\n",
    "print(\"📊 Distribución de clases:\")\n",
    "for clase, cantidad in sorted(conteo.items()):\n",
    "    print(f\"Clase {clase}: {cantidad} muestras\")\n"
   ]
  }
 ],
 "metadata": {
  "kernelspec": {
   "display_name": "Python 3",
   "language": "python",
   "name": "python3"
  },
  "language_info": {
   "codemirror_mode": {
    "name": "ipython",
    "version": 3
   },
   "file_extension": ".py",
   "mimetype": "text/x-python",
   "name": "python",
   "nbconvert_exporter": "python",
   "pygments_lexer": "ipython3",
   "version": "3.12.3"
  }
 },
 "nbformat": 4,
 "nbformat_minor": 5
}
