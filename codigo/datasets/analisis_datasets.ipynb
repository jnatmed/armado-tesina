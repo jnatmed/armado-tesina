{
 "cells": [
  {
   "cell_type": "code",
   "execution_count": null,
   "id": "7389a834",
   "metadata": {},
   "outputs": [],
   "source": [
    "import pandas as pd\n",
    "import numpy as np\n",
    "from collections import Counter\n",
    "from config_datasets import config_datasets\n",
    "from cargar_dataset import cargar_dataset\n",
    "\n",
    "for nombre, cfg in config_datasets.items():\n",
    "    print(f\"\\n🔍 Analizando dataset: {nombre.upper()}\")\n",
    "    try:\n",
    "        X, y_bin = cargar_dataset(\n",
    "            path=cfg[\"path\"],\n",
    "            clase_minoria=cfg[\"clase_minoria\"],\n",
    "            col_features=cfg[\"col_features\"],\n",
    "            col_target=cfg[\"col_target\"],\n",
    "            sep=cfg[\"sep\"],\n",
    "            header=cfg[\"header\"]\n",
    "        )\n",
    "\n",
    "        # Cargar target original (sin binarizar)\n",
    "        df = pd.read_csv(cfg[\"path\"], sep=cfg[\"sep\"], header=cfg[\"header\"])\n",
    "        y_original = df[cfg[\"col_target\"]]\n",
    "\n",
    "        # Contar clases originales\n",
    "        conteo = y_original.value_counts()\n",
    "        clase_min_real = conteo.idxmin()\n",
    "        total = conteo.sum()\n",
    "        proporcion = (conteo / total * 100).round(2)\n",
    "\n",
    "        # Mostrar\n",
    "        print(\"🎯 Valores únicos del target:\", list(conteo.index))\n",
    "        print(\"📊 Distribución de clases:\")\n",
    "        for clase, count in conteo.items():\n",
    "            print(f\"   - {clase}: {count} ({proporcion[clase]}%)\")\n",
    "        print(f\"✅ Clase minoritaria real: {clase_min_real}\")\n",
    "        print(f\"⚠️ Clase configurada como minoritaria: {cfg['clase_minoria']}\")\n",
    "\n",
    "        if clase_min_real != cfg[\"clase_minoria\"]:\n",
    "            print(\"🚨 POSIBLE ERROR DE CONFIGURACIÓN ❗\")\n",
    "\n",
    "    except Exception as e:\n",
    "        print(f\"❌ Error al analizar {nombre}: {e}\")\n"
   ]
  },
  {
   "cell_type": "code",
   "execution_count": null,
   "id": "b292c421",
   "metadata": {},
   "outputs": [],
   "source": [
    "import pandas as pd\n",
    "df = pd.read_csv(\"breast+cancer+wisconsin+original.csv\", sep=\",\", header=None)\n",
    "print(df.head())\n",
    "print(df.columns)\n"
   ]
  }
 ],
 "metadata": {
  "kernelspec": {
   "display_name": "Python 3",
   "language": "python",
   "name": "python3"
  },
  "language_info": {
   "codemirror_mode": {
    "name": "ipython",
    "version": 3
   },
   "file_extension": ".py",
   "mimetype": "text/x-python",
   "name": "python",
   "nbconvert_exporter": "python",
   "pygments_lexer": "ipython3",
   "version": "3.11.8"
  }
 },
 "nbformat": 4,
 "nbformat_minor": 5
}
